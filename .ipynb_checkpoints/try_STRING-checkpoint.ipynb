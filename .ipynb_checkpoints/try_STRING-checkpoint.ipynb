{
 "cells": [
  {
   "cell_type": "code",
   "execution_count": 72,
   "id": "50cf90b8-ac5f-405d-8039-bd57d24a8a5d",
   "metadata": {},
   "outputs": [],
   "source": [
    "import requests\n",
    "import networkx as nx \n",
    "from plotly import graph_objects as go"
   ]
  },
  {
   "cell_type": "code",
   "execution_count": 90,
   "id": "ca4563f7-328a-4e56-b32b-6e750e8e81ca",
   "metadata": {},
   "outputs": [],
   "source": [
    "def visualize_network(G, color_by = None, size_by = None, title = None, layout = \"spring_layout\"):\n",
    "    \"\"\"\n",
    "      Layouts: [graphviz_layout, pydot_layout, bipartite_layout, circular_layout, kamada_kawai_layout, planar_layout, random_layout, rescale_layout,\n",
    "                spring_layout, spectral_layout, spiral_layout, multipartite_layout] \n",
    "      Size_by: \"color_by\", None, List or \"node_attribute\" in G.nodes(data=True)\n",
    "    \"\"\"\n",
    "    if title is None:\n",
    "        title = \"Plotly Networkx visualization\"\n",
    "    if color_by not in set(G.nodes(data=True)[list(G.nodes.keys())[0]].keys()) and color_by is not None:\n",
    "        raise Exception(\"Attribute Error: '{}' not found in nodes attributes\".format(color_by))\n",
    "    else:\n",
    "        if size_by == \"color_by\":\n",
    "            size_by = color_by \n",
    "    if layout is not None:\n",
    "        if layout == \"graphviz_layout\":\n",
    "            pos = nx.nx_pydot.graphviz_layout(G)\n",
    "        elif layout == \"pydot_layout\":\n",
    "            pos = nx.nx_pydot.pydot_layout(G)\n",
    "        elif layout == \"bipartite_layout\":\n",
    "            top = nx.bipartite.sets(G)[0]\n",
    "            pos = nx.bipartite_layout(G, top)\n",
    "        elif layout == \"circular_layout\":\n",
    "            pos = nx.circular_layout(G)\n",
    "        elif layout == \"kamada_kawai_layout\":\n",
    "            pos = nx.kamada_kawai_layout(G)\n",
    "        elif layout == \"planar_layout\":\n",
    "            pos = nx.planar_layout(G)\n",
    "        elif layout == \"random_layout\":\n",
    "            pos = nx.random_layout(G)\n",
    "        elif layout == \"rescale_layout\":\n",
    "            pos = nx.rescale_layout(G)\n",
    "        elif layout == \"spring_layout\":\n",
    "            pos = nx.spring_layout(G)\n",
    "        elif layout == \"spectral_layout\":\n",
    "            pos = nx.spectral_layout(G)\n",
    "        elif layout == \"spiral_layout\":\n",
    "            pos = nx.spiral_layout(G)\n",
    "        elif layout == \"multipartite_layout\":\n",
    "            pos = nx.multipartite_layout(G)\n",
    "        elif isinstance(layout, dict):\n",
    "            pos = layout\n",
    "\n",
    "        nx.set_node_attributes(G, pos, \"pos\")\n",
    "\n",
    "    edge_x = []\n",
    "    edge_y = []\n",
    "    edge_text = []\n",
    "    for edge in G.edges():\n",
    "        x0, y0 = G.nodes[edge[0]]['pos']\n",
    "        x1, y1 = G.nodes[edge[1]]['pos']\n",
    "        edge_x.append(x0)\n",
    "        edge_x.append(x1)\n",
    "        edge_x.append(None)\n",
    "        edge_y.append(y0)\n",
    "        edge_y.append(y1)\n",
    "        edge_y.append(None)\n",
    "        edge_text.append(\"Edge {} - {}\".format(edge[0], edge[1]))\n",
    "\n",
    "    edge_trace = go.Scatter(\n",
    "                                  x=edge_x, y=edge_y,\n",
    "                                  line=dict(width=0.5, color='white'),\n",
    "                                  hoverinfo='text',\n",
    "                                  text=edge_text,\n",
    "                                  mode='lines'\n",
    "                            )\n",
    "\n",
    "    node_x = []\n",
    "    node_y = []\n",
    "    for node in G.nodes():\n",
    "        x, y = G.nodes[node]['pos']\n",
    "        node_x.append(x)\n",
    "        node_y.append(y)\n",
    "\n",
    "    node_trace = go.Scatter(\n",
    "                               x=node_x, y=node_y,\n",
    "                                mode= 'markers',\n",
    "                                hoverinfo=\"name+text\",\n",
    "                                marker = dict(\n",
    "                                  showscale=True,\n",
    "                                  #colorscale options\n",
    "                                  #'Greys' | 'YlGnBu' | 'Greens' | 'YlOrRd' | 'Bluered' | 'RdBu' |\n",
    "                                  #'Reds' | 'Blues' | 'Picnic' | 'Rainbow' | 'Portland' | 'Jet' |\n",
    "                                  #'Hot' | 'Blackbody' | 'Earth' | 'Electric' | 'Viridis' |\n",
    "                                  colorscale='Blues',\n",
    "                                  reversescale=True,\n",
    "                                  color=[],\n",
    "                                  size=10,\n",
    "                                  colorbar=dict(\n",
    "                                    thickness=15,\n",
    "                                    title=color_by,\n",
    "                                    xanchor='left',\n",
    "                                    titleside='right'\n",
    "                                  ),\n",
    "                                  line_width=2\n",
    "                               )\n",
    "                            )\n",
    "\n",
    "    if color_by is not None:\n",
    "        node_color = []\n",
    "        node_size = []\n",
    "        for node, attributes in G.nodes(data=True):\n",
    "            value = attributes[color_by]\n",
    "            node_color.append(value)\n",
    "        if size_by is not None:\n",
    "            size = value*200\n",
    "            node_size.append(size)\n",
    "        node_trace.marker.color = node_color\n",
    "        if size_by is not None:\n",
    "            node_trace.marker.size = node_size\n",
    "\n",
    "    nodes_text = []\n",
    "    for node, attributes in G.nodes(data=True):\n",
    "        node_text = \"Node: {}\\n\\n\".format(node)\n",
    "        for attribute_name, value in dict(attributes).items():\n",
    "            node_text += \"{}: {}\\n\".format(attribute_name, value)\n",
    "        nodes_text.append(node_text)\n",
    "    node_trace.text = nodes_text\n",
    "\n",
    "    fig = go.Figure(data=[edge_trace, node_trace],\n",
    "                      layout=go.Layout(\n",
    "                      title=title,\n",
    "                      titlefont_size=16,\n",
    "                      showlegend=False,\n",
    "                      hovermode='closest',\n",
    "                      margin=dict(b=20,l=5,r=5,t=40),\n",
    "                      xaxis=dict(showgrid=False, zeroline=False, showticklabels=False),\n",
    "                      yaxis=dict(showgrid=False, zeroline=False, showticklabels=False), \n",
    "                      template=\"plotly_dark\"\n",
    "                      ),\n",
    "    )\n",
    "    fig.show()"
   ]
  },
  {
   "cell_type": "code",
   "execution_count": 77,
   "id": "03ceedbb-ecfd-460f-81a8-1ddc009691fd",
   "metadata": {},
   "outputs": [],
   "source": [
    "def request_protein_interactions_network(gene_names, threshold=0.4):\n",
    "    \n",
    "    string_api_url = \"https://version-11-5.string-db.org/api\"\n",
    "    output_format = \"tsv-no-header\"\n",
    "    method = \"network\"\n",
    "    request_url = \"/\".join([string_api_url, output_format, method])\n",
    "    \n",
    "    params = {\n",
    "\n",
    "        \"identifiers\" : \"%0d\".join(gene_names), # your protein\n",
    "        \"species\" : 9606, # species NCBI identifier \n",
    "         #\"caller_identity\" : \"test_for_now\" # your app name\n",
    "\n",
    "    }\n",
    "\n",
    "    response = requests.post(request_url, data=params)\n",
    "    edgelist = []\n",
    "    weights = {}\n",
    "    for line in response.text.strip().split(\"\\n\"):\n",
    "\n",
    "        l = line.strip().split(\"\\t\")\n",
    "        p1, p2 = l[2], l[3]\n",
    "\n",
    "        ## filter the interaction according to experimental score\n",
    "        experimental_score = float(l[10])\n",
    "        if experimental_score > threshold:\n",
    "\n",
    "            #print(\"\\t\".join([p1, p2, \"experimentally confirmed (prob. %.3f)\" % experimental_score])) \n",
    "            edgelist.append([p1, p2])\n",
    "            weights[(p1, p2)] = experimental_score\n",
    "            \n",
    "    G = nx.from_edgelist(edgelist)\n",
    "    \n",
    "    for (n1, n2), weight in weights.items():\n",
    "        G[n1][n2]['weight'] = weight\n",
    "    return G"
   ]
  },
  {
   "cell_type": "code",
   "execution_count": 58,
   "id": "690cdc51-9232-4ada-a7a5-89eea174f6e5",
   "metadata": {},
   "outputs": [],
   "source": [
    "protein_list = [\"TP53\"]\n",
    "G = request_protein_interactions_network(protein_list)"
   ]
  },
  {
   "cell_type": "code",
   "execution_count": 59,
   "id": "124ffb63-e636-4a20-aa49-74365170bfe9",
   "metadata": {},
   "outputs": [
    {
     "data": {
      "text/plain": [
       "(NodeDataView({'SIRT1': {}, 'EP300': {}, 'TP53': {}, 'AURKA': {}, 'DDX5': {}, 'UBE3A': {}, 'RPA1': {}, 'CDK2': {}, 'MDM2': {}, 'CREBBP': {}, 'BARD1': {}}),\n",
       " EdgeDataView([('SIRT1', 'EP300', {'weight': 0.733}), ('SIRT1', 'TP53', {'weight': 0.884}), ('EP300', 'DDX5', {'weight': 0.7}), ('EP300', 'MDM2', {'weight': 0.874}), ('EP300', 'CREBBP', {'weight': 0.805}), ('EP300', 'CDK2', {'weight': 0.757}), ('EP300', 'TP53', {'weight': 0.998}), ('TP53', 'AURKA', {'weight': 0.875}), ('TP53', 'DDX5', {'weight': 0.748}), ('TP53', 'UBE3A', {'weight': 0.919}), ('TP53', 'RPA1', {'weight': 0.973}), ('TP53', 'MDM2', {'weight': 0.998}), ('TP53', 'BARD1', {'weight': 0.848}), ('TP53', 'CREBBP', {'weight': 0.983}), ('TP53', 'CDK2', {'weight': 0.79}), ('RPA1', 'CDK2', {'weight': 0.506}), ('CDK2', 'CREBBP', {'weight': 0.758}), ('MDM2', 'CREBBP', {'weight': 0.866})]))"
      ]
     },
     "execution_count": 59,
     "metadata": {},
     "output_type": "execute_result"
    }
   ],
   "source": [
    "G.nodes(data=True), G.edges(data=True)"
   ]
  },
  {
   "cell_type": "code",
   "execution_count": 57,
   "id": "9c7bf53c-1a5b-44c1-8a22-69f7c86c804b",
   "metadata": {},
   "outputs": [
    {
     "data": {
      "image/png": "[encoded data removed]",
      "text/plain": [
       "<Figure size 640x480 with 1 Axes>"
      ]
     },
     "metadata": {},
     "output_type": "display_data"
    }
   ],
   "source": [
    "nx.draw(G, with_labels=True)"
   ]
  },
  {
   "cell_type": "code",
   "execution_count": 82,
   "id": "08e684ab-2a4b-4ef4-884a-b1e443ff07f4",
   "metadata": {},
   "outputs": [
    {
     "data": {
      "text/plain": [
       "NodeDataView({'SIRT1': {'color': 'blue', 'pos': array([ 0.45059436, -0.82414161])}, 'EP300': {'color': 'blue', 'pos': array([ 0.03004364, -0.47594329])}, 'TP53': {'color': 'green', 'pos': array([0.04460714, 0.05923172])}, 'AURKA': {'color': 'blue', 'pos': array([-0.94649964,  0.49965729])}, 'DDX5': {'color': 'blue', 'pos': array([ 0.79107555, -0.36089385])}, 'UBE3A': {'color': 'blue', 'pos': array([0.92734179, 0.44443926])}, 'RPA1': {'color': 'blue', 'pos': array([-0.31696895,  0.78938969])}, 'CDK2': {'color': 'blue', 'pos': array([-0.50016167,  0.07906859])}, 'MDM2': {'color': 'blue', 'pos': array([-0.33733769, -0.79174637])}, 'CREBBP': {'color': 'blue', 'pos': array([-0.5764066 , -0.41906142])}, 'BARD1': {'color': 'blue', 'pos': array([0.43371207, 1.        ])}})"
      ]
     },
     "execution_count": 82,
     "metadata": {},
     "output_type": "execute_result"
    }
   ],
   "source": [
    "node_colors = {node: (\"green\" if node in protein_list else \"blue\") for node in G.nodes}\n",
    "nx.set_node_attributes(G, node_colors, \"color\")\n",
    "G.nodes(data=True)"
   ]
  },
  {
   "cell_type": "code",
   "execution_count": 92,
   "id": "45a80ed9-1f81-4ab1-b1fc-3a613be55604",
   "metadata": {},
   "outputs": [
    {
     "data": {
      "application/vnd.plotly.v1+json": {
       "config": {
        "plotlyServerURL": "https://plot.ly"
       },
       "data": [
        {
         "hoverinfo": "text",
         "line": {
          "color": "white",
          "width": 0.5
         },
         "mode": "lines",
         "text": [
          "Edge SIRT1 - EP300",
          "Edge SIRT1 - TP53",
          "Edge EP300 - DDX5",
          "Edge EP300 - MDM2",
          "Edge EP300 - CREBBP",
          "Edge EP300 - CDK2",
          "Edge EP300 - TP53",
          "Edge TP53 - AURKA",
          "Edge TP53 - DDX5",
          "Edge TP53 - UBE3A",
          "Edge TP53 - RPA1",
          "Edge TP53 - MDM2",
          "Edge TP53 - BARD1",
          "Edge TP53 - CREBBP",
          "Edge TP53 - CDK2",
          "Edge RPA1 - CDK2",
          "Edge CDK2 - CREBBP",
          "Edge MDM2 - CREBBP"
         ],
         "type": "scatter",
         "x": [
          0.7262092036984197,
          0.2837044098868014,
          null,
          0.7262092036984197,
          -0.028927529279580064,
          null,
          0.2837044098868014,
          0.38355137291871383,
          null,
          0.2837044098868014,
          -0.07501537024052196,
          null,
          0.2837044098868014,
          0.1991679747485017,
          null,
          0.2837044098868014,
          -0.34806728711339013,
          null,
          0.2837044098868014,
          -0.028927529279580064,
          null,
          -0.028927529279580064,
          -0.3178150394129188,
          null,
          -0.028927529279580064,
          0.38355137291871383,
          null,
          -0.028927529279580064,
          0.8834344937814332,
          null,
          -0.028927529279580064,
          -0.7062422289874594,
          null,
          -0.028927529279580064,
          -0.07501537024052196,
          null,
          -0.028927529279580064,
          -1,
          null,
          -0.028927529279580064,
          0.1991679747485017,
          null,
          -0.028927529279580064,
          -0.34806728711339013,
          null,
          -0.7062422289874594,
          -0.34806728711339013,
          null,
          -0.34806728711339013,
          0.1991679747485017,
          null,
          -0.07501537024052196,
          0.1991679747485017,
          null
         ],
         "y": [
          -0.27134724634424817,
          0.13792894064188294,
          null,
          -0.27134724634424817,
          -0.054397046190124865,
          null,
          0.13792894064188294,
          -0.6368281942722746,
          null,
          0.13792894064188294,
          0.7110319545680366,
          null,
          0.13792894064188294,
          0.5843635390067318,
          null,
          0.13792894064188294,
          0.3074317695197518,
          null,
          0.13792894064188294,
          -0.054397046190124865,
          null,
          -0.054397046190124865,
          -0.9427989185457467,
          null,
          -0.054397046190124865,
          -0.6368281942722746,
          null,
          -0.054397046190124865,
          0.28753081117493684,
          null,
          -0.054397046190124865,
          -0.2986317262088527,
          null,
          -0.054397046190124865,
          0.7110319545680366,
          null,
          -0.054397046190124865,
          0.1757161166499062,
          null,
          -0.054397046190124865,
          0.5843635390067318,
          null,
          -0.054397046190124865,
          0.3074317695197518,
          null,
          -0.2986317262088527,
          0.3074317695197518,
          null,
          0.3074317695197518,
          0.5843635390067318,
          null,
          0.7110319545680366,
          0.5843635390067318,
          null
         ]
        },
        {
         "hoverinfo": "name+text",
         "marker": {
          "color": [
           "blue",
           "blue",
           "green",
           "blue",
           "blue",
           "blue",
           "blue",
           "blue",
           "blue",
           "blue",
           "blue"
          ],
          "colorbar": {
           "thickness": 15,
           "title": {
            "side": "right",
            "text": "color"
           },
           "xanchor": "left"
          },
          "colorscale": [
           [
            0,
            "rgb(247,251,255)"
           ],
           [
            0.125,
            "rgb(222,235,247)"
           ],
           [
            0.25,
            "rgb(198,219,239)"
           ],
           [
            0.375,
            "rgb(158,202,225)"
           ],
           [
            0.5,
            "rgb(107,174,214)"
           ],
           [
            0.625,
            "rgb(66,146,198)"
           ],
           [
            0.75,
            "rgb(33,113,181)"
           ],
           [
            0.875,
            "rgb(8,81,156)"
           ],
           [
            1,
            "rgb(8,48,107)"
           ]
          ],
          "line": {
           "width": 2
          },
          "reversescale": true,
          "showscale": true,
          "size": 10
         },
         "mode": "markers",
         "text": [
          "Node: SIRT1\n\ncolor: blue\npos: [ 0.7262092  -0.27134725]\n",
          "Node: EP300\n\ncolor: blue\npos: [0.28370441 0.13792894]\n",
          "Node: TP53\n\ncolor: green\npos: [-0.02892753 -0.05439705]\n",
          "Node: AURKA\n\ncolor: blue\npos: [-0.31781504 -0.94279892]\n",
          "Node: DDX5\n\ncolor: blue\npos: [ 0.38355137 -0.63682819]\n",
          "Node: UBE3A\n\ncolor: blue\npos: [0.88343449 0.28753081]\n",
          "Node: RPA1\n\ncolor: blue\npos: [-0.70624223 -0.29863173]\n",
          "Node: CDK2\n\ncolor: blue\npos: [-0.34806729  0.30743177]\n",
          "Node: MDM2\n\ncolor: blue\npos: [-0.07501537  0.71103195]\n",
          "Node: CREBBP\n\ncolor: blue\npos: [0.19916797 0.58436354]\n",
          "Node: BARD1\n\ncolor: blue\npos: [-1.          0.17571612]\n"
         ],
         "type": "scatter",
         "x": [
          0.7262092036984197,
          0.2837044098868014,
          -0.028927529279580064,
          -0.3178150394129188,
          0.38355137291871383,
          0.8834344937814332,
          -0.7062422289874594,
          -0.34806728711339013,
          -0.07501537024052196,
          0.1991679747485017,
          -1
         ],
         "y": [
          -0.27134724634424817,
          0.13792894064188294,
          -0.054397046190124865,
          -0.9427989185457467,
          -0.6368281942722746,
          0.28753081117493684,
          -0.2986317262088527,
          0.3074317695197518,
          0.7110319545680366,
          0.5843635390067318,
          0.1757161166499062
         ]
        }
       ],
       "layout": {
        "autosize": true,
        "hovermode": "closest",
        "margin": {
         "b": 20,
         "l": 5,
         "r": 5,
         "t": 40
        },
        "showlegend": false,
        "template": {
         "data": {
          "bar": [
           {
            "error_x": {
             "color": "#f2f5fa"
            },
            "error_y": {
             "color": "#f2f5fa"
            },
            "marker": {
             "line": {
              "color": "rgb(17,17,17)",
              "width": 0.5
             },
             "pattern": {
              "fillmode": "overlay",
              "size": 10,
              "solidity": 0.2
             }
            },
            "type": "bar"
           }
          ],
          "barpolar": [
           {
            "marker": {
             "line": {
              "color": "rgb(17,17,17)",
              "width": 0.5
             },
             "pattern": {
              "fillmode": "overlay",
              "size": 10,
              "solidity": 0.2
             }
            },
            "type": "barpolar"
           }
          ],
          "carpet": [
           {
            "aaxis": {
             "endlinecolor": "#A2B1C6",
             "gridcolor": "#506784",
             "linecolor": "#506784",
             "minorgridcolor": "#506784",
             "startlinecolor": "#A2B1C6"
            },
            "baxis": {
             "endlinecolor": "#A2B1C6",
             "gridcolor": "#506784",
             "linecolor": "#506784",
             "minorgridcolor": "#506784",
             "startlinecolor": "#A2B1C6"
            },
            "type": "carpet"
           }
          ],
          "choropleth": [
           {
            "colorbar": {
             "outlinewidth": 0,
             "ticks": ""
            },
            "type": "choropleth"
           }
          ],
          "contour": [
           {
            "colorbar": {
             "outlinewidth": 0,
             "ticks": ""
            },
            "colorscale": [
             [
              0,
              "#0d0887"
             ],
             [
              0.1111111111111111,
              "#46039f"
             ],
             [
              0.2222222222222222,
              "#7201a8"
             ],
             [
              0.3333333333333333,
              "#9c179e"
             ],
             [
              0.4444444444444444,
              "#bd3786"
             ],
             [
              0.5555555555555556,
              "#d8576b"
             ],
             [
              0.6666666666666666,
              "#ed7953"
             ],
             [
              0.7777777777777778,
              "#fb9f3a"
             ],
             [
              0.8888888888888888,
              "#fdca26"
             ],
             [
              1,
              "#f0f921"
             ]
            ],
            "type": "contour"
           }
          ],
          "contourcarpet": [
           {
            "colorbar": {
             "outlinewidth": 0,
             "ticks": ""
            },
            "type": "contourcarpet"
           }
          ],
          "heatmap": [
           {
            "colorbar": {
             "outlinewidth": 0,
             "ticks": ""
            },
            "colorscale": [
             [
              0,
              "#0d0887"
             ],
             [
              0.1111111111111111,
              "#46039f"
             ],
             [
              0.2222222222222222,
              "#7201a8"
             ],
             [
              0.3333333333333333,
              "#9c179e"
             ],
             [
              0.4444444444444444,
              "#bd3786"
             ],
             [
              0.5555555555555556,
              "#d8576b"
             ],
             [
              0.6666666666666666,
              "#ed7953"
             ],
             [
              0.7777777777777778,
              "#fb9f3a"
             ],
             [
              0.8888888888888888,
              "#fdca26"
             ],
             [
              1,
              "#f0f921"
             ]
            ],
            "type": "heatmap"
           }
          ],
          "heatmapgl": [
           {
            "colorbar": {
             "outlinewidth": 0,
             "ticks": ""
            },
            "colorscale": [
             [
              0,
              "#0d0887"
             ],
             [
              0.1111111111111111,
              "#46039f"
             ],
             [
              0.2222222222222222,
              "#7201a8"
             ],
             [
              0.3333333333333333,
              "#9c179e"
             ],
             [
              0.4444444444444444,
              "#bd3786"
             ],
             [
              0.5555555555555556,
              "#d8576b"
             ],
             [
              0.6666666666666666,
              "#ed7953"
             ],
             [
              0.7777777777777778,
              "#fb9f3a"
             ],
             [
              0.8888888888888888,
              "#fdca26"
             ],
             [
              1,
              "#f0f921"
             ]
            ],
            "type": "heatmapgl"
           }
          ],
          "histogram": [
           {
            "marker": {
             "pattern": {
              "fillmode": "overlay",
              "size": 10,
              "solidity": 0.2
             }
            },
            "type": "histogram"
           }
          ],
          "histogram2d": [
           {
            "colorbar": {
             "outlinewidth": 0,
             "ticks": ""
            },
            "colorscale": [
             [
              0,
              "#0d0887"
             ],
             [
              0.1111111111111111,
              "#46039f"
             ],
             [
              0.2222222222222222,
              "#7201a8"
             ],
             [
              0.3333333333333333,
              "#9c179e"
             ],
             [
              0.4444444444444444,
              "#bd3786"
             ],
             [
              0.5555555555555556,
              "#d8576b"
             ],
             [
              0.6666666666666666,
              "#ed7953"
             ],
             [
              0.7777777777777778,
              "#fb9f3a"
             ],
             [
              0.8888888888888888,
              "#fdca26"
             ],
             [
              1,
              "#f0f921"
             ]
            ],
            "type": "histogram2d"
           }
          ],
          "histogram2dcontour": [
           {
            "colorbar": {
             "outlinewidth": 0,
             "ticks": ""
            },
            "colorscale": [
             [
              0,
              "#0d0887"
             ],
             [
              0.1111111111111111,
              "#46039f"
             ],
             [
              0.2222222222222222,
              "#7201a8"
             ],
             [
              0.3333333333333333,
              "#9c179e"
             ],
             [
              0.4444444444444444,
              "#bd3786"
             ],
             [
              0.5555555555555556,
              "#d8576b"
             ],
             [
              0.6666666666666666,
              "#ed7953"
             ],
             [
              0.7777777777777778,
              "#fb9f3a"
             ],
             [
              0.8888888888888888,
              "#fdca26"
             ],
             [
              1,
              "#f0f921"
             ]
            ],
            "type": "histogram2dcontour"
           }
          ],
          "mesh3d": [
           {
            "colorbar": {
             "outlinewidth": 0,
             "ticks": ""
            },
            "type": "mesh3d"
           }
          ],
          "parcoords": [
           {
            "line": {
             "colorbar": {
              "outlinewidth": 0,
              "ticks": ""
             }
            },
            "type": "parcoords"
           }
          ],
          "pie": [
           {
            "automargin": true,
            "type": "pie"
           }
          ],
          "scatter": [
           {
            "marker": {
             "line": {
              "color": "#283442"
             }
            },
            "type": "scatter"
           }
          ],
          "scatter3d": [
           {
            "line": {
             "colorbar": {
              "outlinewidth": 0,
              "ticks": ""
             }
            },
            "marker": {
             "colorbar": {
              "outlinewidth": 0,
              "ticks": ""
             }
            },
            "type": "scatter3d"
           }
          ],
          "scattercarpet": [
           {
            "marker": {
             "colorbar": {
              "outlinewidth": 0,
              "ticks": ""
             }
            },
            "type": "scattercarpet"
           }
          ],
          "scattergeo": [
           {
            "marker": {
             "colorbar": {
              "outlinewidth": 0,
              "ticks": ""
             }
            },
            "type": "scattergeo"
           }
          ],
          "scattergl": [
           {
            "marker": {
             "line": {
              "color": "#283442"
             }
            },
            "type": "scattergl"
           }
          ],
          "scattermapbox": [
           {
            "marker": {
             "colorbar": {
              "outlinewidth": 0,
              "ticks": ""
             }
            },
            "type": "scattermapbox"
           }
          ],
          "scatterpolar": [
           {
            "marker": {
             "colorbar": {
              "outlinewidth": 0,
              "ticks": ""
             }
            },
            "type": "scatterpolar"
           }
          ],
          "scatterpolargl": [
           {
            "marker": {
             "colorbar": {
              "outlinewidth": 0,
              "ticks": ""
             }
            },
            "type": "scatterpolargl"
           }
          ],
          "scatterternary": [
           {
            "marker": {
             "colorbar": {
              "outlinewidth": 0,
              "ticks": ""
             }
            },
            "type": "scatterternary"
           }
          ],
          "surface": [
           {
            "colorbar": {
             "outlinewidth": 0,
             "ticks": ""
            },
            "colorscale": [
             [
              0,
              "#0d0887"
             ],
             [
              0.1111111111111111,
              "#46039f"
             ],
             [
              0.2222222222222222,
              "#7201a8"
             ],
             [
              0.3333333333333333,
              "#9c179e"
             ],
             [
              0.4444444444444444,
              "#bd3786"
             ],
             [
              0.5555555555555556,
              "#d8576b"
             ],
             [
              0.6666666666666666,
              "#ed7953"
             ],
             [
              0.7777777777777778,
              "#fb9f3a"
             ],
             [
              0.8888888888888888,
              "#fdca26"
             ],
             [
              1,
              "#f0f921"
             ]
            ],
            "type": "surface"
           }
          ],
          "table": [
           {
            "cells": {
             "fill": {
              "color": "#506784"
             },
             "line": {
              "color": "rgb(17,17,17)"
             }
            },
            "header": {
             "fill": {
              "color": "#2a3f5f"
             },
             "line": {
              "color": "rgb(17,17,17)"
             }
            },
            "type": "table"
           }
          ]
         },
         "layout": {
          "annotationdefaults": {
           "arrowcolor": "#f2f5fa",
           "arrowhead": 0,
           "arrowwidth": 1
          },
          "autotypenumbers": "strict",
          "coloraxis": {
           "colorbar": {
            "outlinewidth": 0,
            "ticks": ""
           }
          },
          "colorscale": {
           "diverging": [
            [
             0,
             "#8e0152"
            ],
            [
             0.1,
             "#c51b7d"
            ],
            [
             0.2,
             "#de77ae"
            ],
            [
             0.3,
             "#f1b6da"
            ],
            [
             0.4,
             "#fde0ef"
            ],
            [
             0.5,
             "#f7f7f7"
            ],
            [
             0.6,
             "#e6f5d0"
            ],
            [
             0.7,
             "#b8e186"
            ],
            [
             0.8,
             "#7fbc41"
            ],
            [
             0.9,
             "#4d9221"
            ],
            [
             1,
             "#276419"
            ]
           ],
           "sequential": [
            [
             0,
             "#0d0887"
            ],
            [
             0.1111111111111111,
             "#46039f"
            ],
            [
             0.2222222222222222,
             "#7201a8"
            ],
            [
             0.3333333333333333,
             "#9c179e"
            ],
            [
             0.4444444444444444,
             "#bd3786"
            ],
            [
             0.5555555555555556,
             "#d8576b"
            ],
            [
             0.6666666666666666,
             "#ed7953"
            ],
            [
             0.7777777777777778,
             "#fb9f3a"
            ],
            [
             0.8888888888888888,
             "#fdca26"
            ],
            [
             1,
             "#f0f921"
            ]
           ],
           "sequentialminus": [
            [
             0,
             "#0d0887"
            ],
            [
             0.1111111111111111,
             "#46039f"
            ],
            [
             0.2222222222222222,
             "#7201a8"
            ],
            [
             0.3333333333333333,
             "#9c179e"
            ],
            [
             0.4444444444444444,
             "#bd3786"
            ],
            [
             0.5555555555555556,
             "#d8576b"
            ],
            [
             0.6666666666666666,
             "#ed7953"
            ],
            [
             0.7777777777777778,
             "#fb9f3a"
            ],
            [
             0.8888888888888888,
             "#fdca26"
            ],
            [
             1,
             "#f0f921"
            ]
           ]
          },
          "colorway": [
           "#636efa",
           "#EF553B",
           "#00cc96",
           "#ab63fa",
           "#FFA15A",
           "#19d3f3",
           "#FF6692",
           "#B6E880",
           "#FF97FF",
           "#FECB52"
          ],
          "font": {
           "color": "#f2f5fa"
          },
          "geo": {
           "bgcolor": "rgb(17,17,17)",
           "lakecolor": "rgb(17,17,17)",
           "landcolor": "rgb(17,17,17)",
           "showlakes": true,
           "showland": true,
           "subunitcolor": "#506784"
          },
          "hoverlabel": {
           "align": "left"
          },
          "hovermode": "closest",
          "mapbox": {
           "style": "dark"
          },
          "paper_bgcolor": "rgb(17,17,17)",
          "plot_bgcolor": "rgb(17,17,17)",
          "polar": {
           "angularaxis": {
            "gridcolor": "#506784",
            "linecolor": "#506784",
            "ticks": ""
           },
           "bgcolor": "rgb(17,17,17)",
           "radialaxis": {
            "gridcolor": "#506784",
            "linecolor": "#506784",
            "ticks": ""
           }
          },
          "scene": {
           "xaxis": {
            "backgroundcolor": "rgb(17,17,17)",
            "gridcolor": "#506784",
            "gridwidth": 2,
            "linecolor": "#506784",
            "showbackground": true,
            "ticks": "",
            "zerolinecolor": "#C8D4E3"
           },
           "yaxis": {
            "backgroundcolor": "rgb(17,17,17)",
            "gridcolor": "#506784",
            "gridwidth": 2,
            "linecolor": "#506784",
            "showbackground": true,
            "ticks": "",
            "zerolinecolor": "#C8D4E3"
           },
           "zaxis": {
            "backgroundcolor": "rgb(17,17,17)",
            "gridcolor": "#506784",
            "gridwidth": 2,
            "linecolor": "#506784",
            "showbackground": true,
            "ticks": "",
            "zerolinecolor": "#C8D4E3"
           }
          },
          "shapedefaults": {
           "line": {
            "color": "#f2f5fa"
           }
          },
          "sliderdefaults": {
           "bgcolor": "#C8D4E3",
           "bordercolor": "rgb(17,17,17)",
           "borderwidth": 1,
           "tickwidth": 0
          },
          "ternary": {
           "aaxis": {
            "gridcolor": "#506784",
            "linecolor": "#506784",
            "ticks": ""
           },
           "baxis": {
            "gridcolor": "#506784",
            "linecolor": "#506784",
            "ticks": ""
           },
           "bgcolor": "rgb(17,17,17)",
           "caxis": {
            "gridcolor": "#506784",
            "linecolor": "#506784",
            "ticks": ""
           }
          },
          "title": {
           "x": 0.05
          },
          "updatemenudefaults": {
           "bgcolor": "#506784",
           "borderwidth": 0
          },
          "xaxis": {
           "automargin": true,
           "gridcolor": "#283442",
           "linecolor": "#506784",
           "ticks": "",
           "title": {
            "standoff": 15
           },
           "zerolinecolor": "#283442",
           "zerolinewidth": 2
          },
          "yaxis": {
           "automargin": true,
           "gridcolor": "#283442",
           "linecolor": "#506784",
           "ticks": "",
           "title": {
            "standoff": 15
           },
           "zerolinecolor": "#283442",
           "zerolinewidth": 2
          }
         }
        },
        "title": {
         "font": {
          "size": 16
         },
         "text": "Plotly Networkx visualization"
        },
        "xaxis": {
         "autorange": true,
         "range": [
          -1.1173152362825565,
          1.0007497300639898
         ],
         "showgrid": false,
         "showticklabels": false,
         "type": "linear",
         "zeroline": false
        },
        "yaxis": {
         "autorange": true,
         "range": [
          -1.0792801071036804,
          0.8475131431259701
         ],
         "showgrid": false,
         "showticklabels": false,
         "type": "linear",
         "zeroline": false
        }
       }
      },
      "image/png": "[encoded data removed]",
      "text/html": [
       "<div>                            <div id=\"94451040-0b58-4929-8cb6-986470c86ebf\" class=\"plotly-graph-div\" style=\"height:525px; width:100%;\"></div>            <script type=\"text/javascript\">                require([\"plotly\"], function(Plotly) {                    window.PLOTLYENV=window.PLOTLYENV || {};                                    if (document.getElementById(\"94451040-0b58-4929-8cb6-986470c86ebf\")) {                    Plotly.newPlot(                        \"94451040-0b58-4929-8cb6-986470c86ebf\",                        [{\"hoverinfo\":\"text\",\"line\":{\"color\":\"white\",\"width\":0.5},\"mode\":\"lines\",\"text\":[\"Edge SIRT1 - EP300\",\"Edge SIRT1 - TP53\",\"Edge EP300 - DDX5\",\"Edge EP300 - MDM2\",\"Edge EP300 - CREBBP\",\"Edge EP300 - CDK2\",\"Edge EP300 - TP53\",\"Edge TP53 - AURKA\",\"Edge TP53 - DDX5\",\"Edge TP53 - UBE3A\",\"Edge TP53 - RPA1\",\"Edge TP53 - MDM2\",\"Edge TP53 - BARD1\",\"Edge TP53 - CREBBP\",\"Edge TP53 - CDK2\",\"Edge RPA1 - CDK2\",\"Edge CDK2 - CREBBP\",\"Edge MDM2 - CREBBP\"],\"x\":[0.7262092036984197,0.2837044098868014,null,0.7262092036984197,-0.028927529279580064,null,0.2837044098868014,0.38355137291871383,null,0.2837044098868014,-0.07501537024052196,null,0.2837044098868014,0.1991679747485017,null,0.2837044098868014,-0.34806728711339013,null,0.2837044098868014,-0.028927529279580064,null,-0.028927529279580064,-0.3178150394129188,null,-0.028927529279580064,0.38355137291871383,null,-0.028927529279580064,0.8834344937814332,null,-0.028927529279580064,-0.7062422289874594,null,-0.028927529279580064,-0.07501537024052196,null,-0.028927529279580064,-1.0,null,-0.028927529279580064,0.1991679747485017,null,-0.028927529279580064,-0.34806728711339013,null,-0.7062422289874594,-0.34806728711339013,null,-0.34806728711339013,0.1991679747485017,null,-0.07501537024052196,0.1991679747485017,null],\"y\":[-0.27134724634424817,0.13792894064188294,null,-0.27134724634424817,-0.054397046190124865,null,0.13792894064188294,-0.6368281942722746,null,0.13792894064188294,0.7110319545680366,null,0.13792894064188294,0.5843635390067318,null,0.13792894064188294,0.3074317695197518,null,0.13792894064188294,-0.054397046190124865,null,-0.054397046190124865,-0.9427989185457467,null,-0.054397046190124865,-0.6368281942722746,null,-0.054397046190124865,0.28753081117493684,null,-0.054397046190124865,-0.2986317262088527,null,-0.054397046190124865,0.7110319545680366,null,-0.054397046190124865,0.1757161166499062,null,-0.054397046190124865,0.5843635390067318,null,-0.054397046190124865,0.3074317695197518,null,-0.2986317262088527,0.3074317695197518,null,0.3074317695197518,0.5843635390067318,null,0.7110319545680366,0.5843635390067318,null],\"type\":\"scatter\"},{\"hoverinfo\":\"name+text\",\"marker\":{\"color\":[\"blue\",\"blue\",\"green\",\"blue\",\"blue\",\"blue\",\"blue\",\"blue\",\"blue\",\"blue\",\"blue\"],\"colorbar\":{\"thickness\":15,\"title\":{\"side\":\"right\",\"text\":\"color\"},\"xanchor\":\"left\"},\"colorscale\":[[0.0,\"rgb(247,251,255)\"],[0.125,\"rgb(222,235,247)\"],[0.25,\"rgb(198,219,239)\"],[0.375,\"rgb(158,202,225)\"],[0.5,\"rgb(107,174,214)\"],[0.625,\"rgb(66,146,198)\"],[0.75,\"rgb(33,113,181)\"],[0.875,\"rgb(8,81,156)\"],[1.0,\"rgb(8,48,107)\"]],\"line\":{\"width\":2},\"reversescale\":true,\"showscale\":true,\"size\":10},\"mode\":\"markers\",\"text\":[\"Node: SIRT1\\n\\ncolor: blue\\npos: [ 0.7262092  -0.27134725]\\n\",\"Node: EP300\\n\\ncolor: blue\\npos: [0.28370441 0.13792894]\\n\",\"Node: TP53\\n\\ncolor: green\\npos: [-0.02892753 -0.05439705]\\n\",\"Node: AURKA\\n\\ncolor: blue\\npos: [-0.31781504 -0.94279892]\\n\",\"Node: DDX5\\n\\ncolor: blue\\npos: [ 0.38355137 -0.63682819]\\n\",\"Node: UBE3A\\n\\ncolor: blue\\npos: [0.88343449 0.28753081]\\n\",\"Node: RPA1\\n\\ncolor: blue\\npos: [-0.70624223 -0.29863173]\\n\",\"Node: CDK2\\n\\ncolor: blue\\npos: [-0.34806729  0.30743177]\\n\",\"Node: MDM2\\n\\ncolor: blue\\npos: [-0.07501537  0.71103195]\\n\",\"Node: CREBBP\\n\\ncolor: blue\\npos: [0.19916797 0.58436354]\\n\",\"Node: BARD1\\n\\ncolor: blue\\npos: [-1.          0.17571612]\\n\"],\"x\":[0.7262092036984197,0.2837044098868014,-0.028927529279580064,-0.3178150394129188,0.38355137291871383,0.8834344937814332,-0.7062422289874594,-0.34806728711339013,-0.07501537024052196,0.1991679747485017,-1.0],\"y\":[-0.27134724634424817,0.13792894064188294,-0.054397046190124865,-0.9427989185457467,-0.6368281942722746,0.28753081117493684,-0.2986317262088527,0.3074317695197518,0.7110319545680366,0.5843635390067318,0.1757161166499062],\"type\":\"scatter\"}],                        {\"hovermode\":\"closest\",\"margin\":{\"b\":20,\"l\":5,\"r\":5,\"t\":40},\"showlegend\":false,\"template\":{\"data\":{\"barpolar\":[{\"marker\":{\"line\":{\"color\":\"rgb(17,17,17)\",\"width\":0.5},\"pattern\":{\"fillmode\":\"overlay\",\"size\":10,\"solidity\":0.2}},\"type\":\"barpolar\"}],\"bar\":[{\"error_x\":{\"color\":\"#f2f5fa\"},\"error_y\":{\"color\":\"#f2f5fa\"},\"marker\":{\"line\":{\"color\":\"rgb(17,17,17)\",\"width\":0.5},\"pattern\":{\"fillmode\":\"overlay\",\"size\":10,\"solidity\":0.2}},\"type\":\"bar\"}],\"carpet\":[{\"aaxis\":{\"endlinecolor\":\"#A2B1C6\",\"gridcolor\":\"#506784\",\"linecolor\":\"#506784\",\"minorgridcolor\":\"#506784\",\"startlinecolor\":\"#A2B1C6\"},\"baxis\":{\"endlinecolor\":\"#A2B1C6\",\"gridcolor\":\"#506784\",\"linecolor\":\"#506784\",\"minorgridcolor\":\"#506784\",\"startlinecolor\":\"#A2B1C6\"},\"type\":\"carpet\"}],\"choropleth\":[{\"colorbar\":{\"outlinewidth\":0,\"ticks\":\"\"},\"type\":\"choropleth\"}],\"contourcarpet\":[{\"colorbar\":{\"outlinewidth\":0,\"ticks\":\"\"},\"type\":\"contourcarpet\"}],\"contour\":[{\"colorbar\":{\"outlinewidth\":0,\"ticks\":\"\"},\"colorscale\":[[0.0,\"#0d0887\"],[0.1111111111111111,\"#46039f\"],[0.2222222222222222,\"#7201a8\"],[0.3333333333333333,\"#9c179e\"],[0.4444444444444444,\"#bd3786\"],[0.5555555555555556,\"#d8576b\"],[0.6666666666666666,\"#ed7953\"],[0.7777777777777778,\"#fb9f3a\"],[0.8888888888888888,\"#fdca26\"],[1.0,\"#f0f921\"]],\"type\":\"contour\"}],\"heatmapgl\":[{\"colorbar\":{\"outlinewidth\":0,\"ticks\":\"\"},\"colorscale\":[[0.0,\"#0d0887\"],[0.1111111111111111,\"#46039f\"],[0.2222222222222222,\"#7201a8\"],[0.3333333333333333,\"#9c179e\"],[0.4444444444444444,\"#bd3786\"],[0.5555555555555556,\"#d8576b\"],[0.6666666666666666,\"#ed7953\"],[0.7777777777777778,\"#fb9f3a\"],[0.8888888888888888,\"#fdca26\"],[1.0,\"#f0f921\"]],\"type\":\"heatmapgl\"}],\"heatmap\":[{\"colorbar\":{\"outlinewidth\":0,\"ticks\":\"\"},\"colorscale\":[[0.0,\"#0d0887\"],[0.1111111111111111,\"#46039f\"],[0.2222222222222222,\"#7201a8\"],[0.3333333333333333,\"#9c179e\"],[0.4444444444444444,\"#bd3786\"],[0.5555555555555556,\"#d8576b\"],[0.6666666666666666,\"#ed7953\"],[0.7777777777777778,\"#fb9f3a\"],[0.8888888888888888,\"#fdca26\"],[1.0,\"#f0f921\"]],\"type\":\"heatmap\"}],\"histogram2dcontour\":[{\"colorbar\":{\"outlinewidth\":0,\"ticks\":\"\"},\"colorscale\":[[0.0,\"#0d0887\"],[0.1111111111111111,\"#46039f\"],[0.2222222222222222,\"#7201a8\"],[0.3333333333333333,\"#9c179e\"],[0.4444444444444444,\"#bd3786\"],[0.5555555555555556,\"#d8576b\"],[0.6666666666666666,\"#ed7953\"],[0.7777777777777778,\"#fb9f3a\"],[0.8888888888888888,\"#fdca26\"],[1.0,\"#f0f921\"]],\"type\":\"histogram2dcontour\"}],\"histogram2d\":[{\"colorbar\":{\"outlinewidth\":0,\"ticks\":\"\"},\"colorscale\":[[0.0,\"#0d0887\"],[0.1111111111111111,\"#46039f\"],[0.2222222222222222,\"#7201a8\"],[0.3333333333333333,\"#9c179e\"],[0.4444444444444444,\"#bd3786\"],[0.5555555555555556,\"#d8576b\"],[0.6666666666666666,\"#ed7953\"],[0.7777777777777778,\"#fb9f3a\"],[0.8888888888888888,\"#fdca26\"],[1.0,\"#f0f921\"]],\"type\":\"histogram2d\"}],\"histogram\":[{\"marker\":{\"pattern\":{\"fillmode\":\"overlay\",\"size\":10,\"solidity\":0.2}},\"type\":\"histogram\"}],\"mesh3d\":[{\"colorbar\":{\"outlinewidth\":0,\"ticks\":\"\"},\"type\":\"mesh3d\"}],\"parcoords\":[{\"line\":{\"colorbar\":{\"outlinewidth\":0,\"ticks\":\"\"}},\"type\":\"parcoords\"}],\"pie\":[{\"automargin\":true,\"type\":\"pie\"}],\"scatter3d\":[{\"line\":{\"colorbar\":{\"outlinewidth\":0,\"ticks\":\"\"}},\"marker\":{\"colorbar\":{\"outlinewidth\":0,\"ticks\":\"\"}},\"type\":\"scatter3d\"}],\"scattercarpet\":[{\"marker\":{\"colorbar\":{\"outlinewidth\":0,\"ticks\":\"\"}},\"type\":\"scattercarpet\"}],\"scattergeo\":[{\"marker\":{\"colorbar\":{\"outlinewidth\":0,\"ticks\":\"\"}},\"type\":\"scattergeo\"}],\"scattergl\":[{\"marker\":{\"line\":{\"color\":\"#283442\"}},\"type\":\"scattergl\"}],\"scattermapbox\":[{\"marker\":{\"colorbar\":{\"outlinewidth\":0,\"ticks\":\"\"}},\"type\":\"scattermapbox\"}],\"scatterpolargl\":[{\"marker\":{\"colorbar\":{\"outlinewidth\":0,\"ticks\":\"\"}},\"type\":\"scatterpolargl\"}],\"scatterpolar\":[{\"marker\":{\"colorbar\":{\"outlinewidth\":0,\"ticks\":\"\"}},\"type\":\"scatterpolar\"}],\"scatter\":[{\"marker\":{\"line\":{\"color\":\"#283442\"}},\"type\":\"scatter\"}],\"scatterternary\":[{\"marker\":{\"colorbar\":{\"outlinewidth\":0,\"ticks\":\"\"}},\"type\":\"scatterternary\"}],\"surface\":[{\"colorbar\":{\"outlinewidth\":0,\"ticks\":\"\"},\"colorscale\":[[0.0,\"#0d0887\"],[0.1111111111111111,\"#46039f\"],[0.2222222222222222,\"#7201a8\"],[0.3333333333333333,\"#9c179e\"],[0.4444444444444444,\"#bd3786\"],[0.5555555555555556,\"#d8576b\"],[0.6666666666666666,\"#ed7953\"],[0.7777777777777778,\"#fb9f3a\"],[0.8888888888888888,\"#fdca26\"],[1.0,\"#f0f921\"]],\"type\":\"surface\"}],\"table\":[{\"cells\":{\"fill\":{\"color\":\"#506784\"},\"line\":{\"color\":\"rgb(17,17,17)\"}},\"header\":{\"fill\":{\"color\":\"#2a3f5f\"},\"line\":{\"color\":\"rgb(17,17,17)\"}},\"type\":\"table\"}]},\"layout\":{\"annotationdefaults\":{\"arrowcolor\":\"#f2f5fa\",\"arrowhead\":0,\"arrowwidth\":1},\"autotypenumbers\":\"strict\",\"coloraxis\":{\"colorbar\":{\"outlinewidth\":0,\"ticks\":\"\"}},\"colorscale\":{\"diverging\":[[0,\"#8e0152\"],[0.1,\"#c51b7d\"],[0.2,\"#de77ae\"],[0.3,\"#f1b6da\"],[0.4,\"#fde0ef\"],[0.5,\"#f7f7f7\"],[0.6,\"#e6f5d0\"],[0.7,\"#b8e186\"],[0.8,\"#7fbc41\"],[0.9,\"#4d9221\"],[1,\"#276419\"]],\"sequential\":[[0.0,\"#0d0887\"],[0.1111111111111111,\"#46039f\"],[0.2222222222222222,\"#7201a8\"],[0.3333333333333333,\"#9c179e\"],[0.4444444444444444,\"#bd3786\"],[0.5555555555555556,\"#d8576b\"],[0.6666666666666666,\"#ed7953\"],[0.7777777777777778,\"#fb9f3a\"],[0.8888888888888888,\"#fdca26\"],[1.0,\"#f0f921\"]],\"sequentialminus\":[[0.0,\"#0d0887\"],[0.1111111111111111,\"#46039f\"],[0.2222222222222222,\"#7201a8\"],[0.3333333333333333,\"#9c179e\"],[0.4444444444444444,\"#bd3786\"],[0.5555555555555556,\"#d8576b\"],[0.6666666666666666,\"#ed7953\"],[0.7777777777777778,\"#fb9f3a\"],[0.8888888888888888,\"#fdca26\"],[1.0,\"#f0f921\"]]},\"colorway\":[\"#636efa\",\"#EF553B\",\"#00cc96\",\"#ab63fa\",\"#FFA15A\",\"#19d3f3\",\"#FF6692\",\"#B6E880\",\"#FF97FF\",\"#FECB52\"],\"font\":{\"color\":\"#f2f5fa\"},\"geo\":{\"bgcolor\":\"rgb(17,17,17)\",\"lakecolor\":\"rgb(17,17,17)\",\"landcolor\":\"rgb(17,17,17)\",\"showlakes\":true,\"showland\":true,\"subunitcolor\":\"#506784\"},\"hoverlabel\":{\"align\":\"left\"},\"hovermode\":\"closest\",\"mapbox\":{\"style\":\"dark\"},\"paper_bgcolor\":\"rgb(17,17,17)\",\"plot_bgcolor\":\"rgb(17,17,17)\",\"polar\":{\"angularaxis\":{\"gridcolor\":\"#506784\",\"linecolor\":\"#506784\",\"ticks\":\"\"},\"bgcolor\":\"rgb(17,17,17)\",\"radialaxis\":{\"gridcolor\":\"#506784\",\"linecolor\":\"#506784\",\"ticks\":\"\"}},\"scene\":{\"xaxis\":{\"backgroundcolor\":\"rgb(17,17,17)\",\"gridcolor\":\"#506784\",\"gridwidth\":2,\"linecolor\":\"#506784\",\"showbackground\":true,\"ticks\":\"\",\"zerolinecolor\":\"#C8D4E3\"},\"yaxis\":{\"backgroundcolor\":\"rgb(17,17,17)\",\"gridcolor\":\"#506784\",\"gridwidth\":2,\"linecolor\":\"#506784\",\"showbackground\":true,\"ticks\":\"\",\"zerolinecolor\":\"#C8D4E3\"},\"zaxis\":{\"backgroundcolor\":\"rgb(17,17,17)\",\"gridcolor\":\"#506784\",\"gridwidth\":2,\"linecolor\":\"#506784\",\"showbackground\":true,\"ticks\":\"\",\"zerolinecolor\":\"#C8D4E3\"}},\"shapedefaults\":{\"line\":{\"color\":\"#f2f5fa\"}},\"sliderdefaults\":{\"bgcolor\":\"#C8D4E3\",\"bordercolor\":\"rgb(17,17,17)\",\"borderwidth\":1,\"tickwidth\":0},\"ternary\":{\"aaxis\":{\"gridcolor\":\"#506784\",\"linecolor\":\"#506784\",\"ticks\":\"\"},\"baxis\":{\"gridcolor\":\"#506784\",\"linecolor\":\"#506784\",\"ticks\":\"\"},\"bgcolor\":\"rgb(17,17,17)\",\"caxis\":{\"gridcolor\":\"#506784\",\"linecolor\":\"#506784\",\"ticks\":\"\"}},\"title\":{\"x\":0.05},\"updatemenudefaults\":{\"bgcolor\":\"#506784\",\"borderwidth\":0},\"xaxis\":{\"automargin\":true,\"gridcolor\":\"#283442\",\"linecolor\":\"#506784\",\"ticks\":\"\",\"title\":{\"standoff\":15},\"zerolinecolor\":\"#283442\",\"zerolinewidth\":2},\"yaxis\":{\"automargin\":true,\"gridcolor\":\"#283442\",\"linecolor\":\"#506784\",\"ticks\":\"\",\"title\":{\"standoff\":15},\"zerolinecolor\":\"#283442\",\"zerolinewidth\":2}}},\"title\":{\"font\":{\"size\":16},\"text\":\"Plotly Networkx visualization\"},\"xaxis\":{\"showgrid\":false,\"showticklabels\":false,\"zeroline\":false},\"yaxis\":{\"showgrid\":false,\"showticklabels\":false,\"zeroline\":false}},                        {\"responsive\": true}                    ).then(function(){\n",
       "                            \n",
       "var gd = document.getElementById('94451040-0b58-4929-8cb6-986470c86ebf');\n",
       "var x = new MutationObserver(function (mutations, observer) {{\n",
       "        var display = window.getComputedStyle(gd).display;\n",
       "        if (!display || display === 'none') {{\n",
       "            console.log([gd, 'removed!']);\n",
       "            Plotly.purge(gd);\n",
       "            observer.disconnect();\n",
       "        }}\n",
       "}});\n",
       "\n",
       "// Listen for the removal of the full notebook cells\n",
       "var notebookContainer = gd.closest('#notebook-container');\n",
       "if (notebookContainer) {{\n",
       "    x.observe(notebookContainer, {childList: true});\n",
       "}}\n",
       "\n",
       "// Listen for the clearing of the current output cell\n",
       "var outputEl = gd.closest('.output');\n",
       "if (outputEl) {{\n",
       "    x.observe(outputEl, {childList: true});\n",
       "}}\n",
       "\n",
       "                        })                };                });            </script>        </div>"
      ]
     },
     "metadata": {},
     "output_type": "display_data"
    }
   ],
   "source": [
    "visualize_network(G, color_by = 'color', size_by = None, title = None, layout = \"spring_layout\")#color = None Problem"
   ]
  },
  {
   "cell_type": "code",
   "execution_count": 93,
   "id": "81b58bc1-3f5e-4433-a0af-c109b3116614",
   "metadata": {},
   "outputs": [
    {
     "data": {
      "application/vnd.plotly.v1+json": {
       "config": {
        "plotlyServerURL": "https://plot.ly"
       },
       "data": [
        {
         "hoverinfo": "text",
         "line": {
          "color": "white",
          "width": 0.5
         },
         "mode": "lines",
         "text": [
          "Edge SIRT1 - EP300",
          "Edge SIRT1 - TP53",
          "Edge EP300 - DDX5",
          "Edge EP300 - MDM2",
          "Edge EP300 - CREBBP",
          "Edge EP300 - CDK2",
          "Edge EP300 - TP53",
          "Edge TP53 - AURKA",
          "Edge TP53 - DDX5",
          "Edge TP53 - UBE3A",
          "Edge TP53 - RPA1",
          "Edge TP53 - MDM2",
          "Edge TP53 - BARD1",
          "Edge TP53 - CREBBP",
          "Edge TP53 - CDK2",
          "Edge RPA1 - CDK2",
          "Edge CDK2 - CREBBP",
          "Edge MDM2 - CREBBP"
         ],
         "type": "scatter",
         "x": [
          -0.6943486601127674,
          -0.3350923939545203,
          null,
          -0.6943486601127674,
          0.020147368706046817,
          null,
          -0.3350923939545203,
          -0.9061960431056117,
          null,
          -0.3350923939545203,
          -0.3075486878250747,
          null,
          -0.3350923939545203,
          0.10570853587792788,
          null,
          -0.3350923939545203,
          0.40648230298592325,
          null,
          -0.3350923939545203,
          0.020147368706046817,
          null,
          0.020147368706046817,
          -0.3547992850151275,
          null,
          0.020147368706046817,
          -0.9061960431056117,
          null,
          0.020147368706046817,
          1,
          null,
          0.020147368706046817,
          0.704398992402907,
          null,
          0.020147368706046817,
          -0.3075486878250747,
          null,
          0.020147368706046817,
          0.3612478700402961,
          null,
          0.020147368706046817,
          0.10570853587792788,
          null,
          0.020147368706046817,
          0.40648230298592325,
          null,
          0.704398992402907,
          0.40648230298592325,
          null,
          0.40648230298592325,
          0.10570853587792788,
          null,
          -0.3075486878250747,
          0.10570853587792788,
          null
         ],
         "y": [
          0.2569109721703813,
          -0.3225320796917183,
          null,
          0.2569109721703813,
          0.06419801657057454,
          null,
          -0.3225320796917183,
          -0.273102874618734,
          null,
          -0.3225320796917183,
          -0.768944767917295,
          null,
          -0.3225320796917183,
          -0.6964053064471653,
          null,
          -0.3225320796917183,
          -0.3456499582121902,
          null,
          -0.3225320796917183,
          0.06419801657057454,
          null,
          0.06419801657057454,
          0.9331549060341652,
          null,
          0.06419801657057454,
          -0.273102874618734,
          null,
          0.06419801657057454,
          -0.12308994572025286,
          null,
          0.06419801657057454,
          0.31491907028343846,
          null,
          0.06419801657057454,
          -0.768944767917295,
          null,
          0.06419801657057454,
          0.9605419675487958,
          null,
          0.06419801657057454,
          -0.6964053064471653,
          null,
          0.06419801657057454,
          -0.3456499582121902,
          null,
          0.31491907028343846,
          -0.3456499582121902,
          null,
          -0.3456499582121902,
          -0.6964053064471653,
          null,
          -0.768944767917295,
          -0.6964053064471653,
          null
         ]
        },
        {
         "hoverinfo": "name+text",
         "marker": {
          "color": [],
          "colorbar": {
           "thickness": 15,
           "title": {
            "side": "right"
           },
           "xanchor": "left"
          },
          "colorscale": [
           [
            0,
            "rgb(247,251,255)"
           ],
           [
            0.125,
            "rgb(222,235,247)"
           ],
           [
            0.25,
            "rgb(198,219,239)"
           ],
           [
            0.375,
            "rgb(158,202,225)"
           ],
           [
            0.5,
            "rgb(107,174,214)"
           ],
           [
            0.625,
            "rgb(66,146,198)"
           ],
           [
            0.75,
            "rgb(33,113,181)"
           ],
           [
            0.875,
            "rgb(8,81,156)"
           ],
           [
            1,
            "rgb(8,48,107)"
           ]
          ],
          "line": {
           "width": 2
          },
          "reversescale": true,
          "showscale": true,
          "size": 10
         },
         "mode": "markers",
         "text": [
          "Node: SIRT1\n\ncolor: blue\npos: [-0.69434866  0.25691097]\n",
          "Node: EP300\n\ncolor: blue\npos: [-0.33509239 -0.32253208]\n",
          "Node: TP53\n\ncolor: green\npos: [0.02014737 0.06419802]\n",
          "Node: AURKA\n\ncolor: blue\npos: [-0.35479929  0.93315491]\n",
          "Node: DDX5\n\ncolor: blue\npos: [-0.90619604 -0.27310287]\n",
          "Node: UBE3A\n\ncolor: blue\npos: [ 1.         -0.12308995]\n",
          "Node: RPA1\n\ncolor: blue\npos: [0.70439899 0.31491907]\n",
          "Node: CDK2\n\ncolor: blue\npos: [ 0.4064823  -0.34564996]\n",
          "Node: MDM2\n\ncolor: blue\npos: [-0.30754869 -0.76894477]\n",
          "Node: CREBBP\n\ncolor: blue\npos: [ 0.10570854 -0.69640531]\n",
          "Node: BARD1\n\ncolor: blue\npos: [0.36124787 0.96054197]\n"
         ],
         "type": "scatter",
         "x": [
          -0.6943486601127674,
          -0.3350923939545203,
          0.020147368706046817,
          -0.3547992850151275,
          -0.9061960431056117,
          1,
          0.704398992402907,
          0.40648230298592325,
          -0.3075486878250747,
          0.10570853587792788,
          0.3612478700402961
         ],
         "y": [
          0.2569109721703813,
          -0.3225320796917183,
          0.06419801657057454,
          0.9331549060341652,
          -0.273102874618734,
          -0.12308994572025286,
          0.31491907028343846,
          -0.3456499582121902,
          -0.768944767917295,
          -0.6964053064471653,
          0.9605419675487958
         ]
        }
       ],
       "layout": {
        "autosize": true,
        "hovermode": "closest",
        "margin": {
         "b": 20,
         "l": 5,
         "r": 5,
         "t": 40
        },
        "showlegend": false,
        "template": {
         "data": {
          "bar": [
           {
            "error_x": {
             "color": "#f2f5fa"
            },
            "error_y": {
             "color": "#f2f5fa"
            },
            "marker": {
             "line": {
              "color": "rgb(17,17,17)",
              "width": 0.5
             },
             "pattern": {
              "fillmode": "overlay",
              "size": 10,
              "solidity": 0.2
             }
            },
            "type": "bar"
           }
          ],
          "barpolar": [
           {
            "marker": {
             "line": {
              "color": "rgb(17,17,17)",
              "width": 0.5
             },
             "pattern": {
              "fillmode": "overlay",
              "size": 10,
              "solidity": 0.2
             }
            },
            "type": "barpolar"
           }
          ],
          "carpet": [
           {
            "aaxis": {
             "endlinecolor": "#A2B1C6",
             "gridcolor": "#506784",
             "linecolor": "#506784",
             "minorgridcolor": "#506784",
             "startlinecolor": "#A2B1C6"
            },
            "baxis": {
             "endlinecolor": "#A2B1C6",
             "gridcolor": "#506784",
             "linecolor": "#506784",
             "minorgridcolor": "#506784",
             "startlinecolor": "#A2B1C6"
            },
            "type": "carpet"
           }
          ],
          "choropleth": [
           {
            "colorbar": {
             "outlinewidth": 0,
             "ticks": ""
            },
            "type": "choropleth"
           }
          ],
          "contour": [
           {
            "colorbar": {
             "outlinewidth": 0,
             "ticks": ""
            },
            "colorscale": [
             [
              0,
              "#0d0887"
             ],
             [
              0.1111111111111111,
              "#46039f"
             ],
             [
              0.2222222222222222,
              "#7201a8"
             ],
             [
              0.3333333333333333,
              "#9c179e"
             ],
             [
              0.4444444444444444,
              "#bd3786"
             ],
             [
              0.5555555555555556,
              "#d8576b"
             ],
             [
              0.6666666666666666,
              "#ed7953"
             ],
             [
              0.7777777777777778,
              "#fb9f3a"
             ],
             [
              0.8888888888888888,
              "#fdca26"
             ],
             [
              1,
              "#f0f921"
             ]
            ],
            "type": "contour"
           }
          ],
          "contourcarpet": [
           {
            "colorbar": {
             "outlinewidth": 0,
             "ticks": ""
            },
            "type": "contourcarpet"
           }
          ],
          "heatmap": [
           {
            "colorbar": {
             "outlinewidth": 0,
             "ticks": ""
            },
            "colorscale": [
             [
              0,
              "#0d0887"
             ],
             [
              0.1111111111111111,
              "#46039f"
             ],
             [
              0.2222222222222222,
              "#7201a8"
             ],
             [
              0.3333333333333333,
              "#9c179e"
             ],
             [
              0.4444444444444444,
              "#bd3786"
             ],
             [
              0.5555555555555556,
              "#d8576b"
             ],
             [
              0.6666666666666666,
              "#ed7953"
             ],
             [
              0.7777777777777778,
              "#fb9f3a"
             ],
             [
              0.8888888888888888,
              "#fdca26"
             ],
             [
              1,
              "#f0f921"
             ]
            ],
            "type": "heatmap"
           }
          ],
          "heatmapgl": [
           {
            "colorbar": {
             "outlinewidth": 0,
             "ticks": ""
            },
            "colorscale": [
             [
              0,
              "#0d0887"
             ],
             [
              0.1111111111111111,
              "#46039f"
             ],
             [
              0.2222222222222222,
              "#7201a8"
             ],
             [
              0.3333333333333333,
              "#9c179e"
             ],
             [
              0.4444444444444444,
              "#bd3786"
             ],
             [
              0.5555555555555556,
              "#d8576b"
             ],
             [
              0.6666666666666666,
              "#ed7953"
             ],
             [
              0.7777777777777778,
              "#fb9f3a"
             ],
             [
              0.8888888888888888,
              "#fdca26"
             ],
             [
              1,
              "#f0f921"
             ]
            ],
            "type": "heatmapgl"
           }
          ],
          "histogram": [
           {
            "marker": {
             "pattern": {
              "fillmode": "overlay",
              "size": 10,
              "solidity": 0.2
             }
            },
            "type": "histogram"
           }
          ],
          "histogram2d": [
           {
            "colorbar": {
             "outlinewidth": 0,
             "ticks": ""
            },
            "colorscale": [
             [
              0,
              "#0d0887"
             ],
             [
              0.1111111111111111,
              "#46039f"
             ],
             [
              0.2222222222222222,
              "#7201a8"
             ],
             [
              0.3333333333333333,
              "#9c179e"
             ],
             [
              0.4444444444444444,
              "#bd3786"
             ],
             [
              0.5555555555555556,
              "#d8576b"
             ],
             [
              0.6666666666666666,
              "#ed7953"
             ],
             [
              0.7777777777777778,
              "#fb9f3a"
             ],
             [
              0.8888888888888888,
              "#fdca26"
             ],
             [
              1,
              "#f0f921"
             ]
            ],
            "type": "histogram2d"
           }
          ],
          "histogram2dcontour": [
           {
            "colorbar": {
             "outlinewidth": 0,
             "ticks": ""
            },
            "colorscale": [
             [
              0,
              "#0d0887"
             ],
             [
              0.1111111111111111,
              "#46039f"
             ],
             [
              0.2222222222222222,
              "#7201a8"
             ],
             [
              0.3333333333333333,
              "#9c179e"
             ],
             [
              0.4444444444444444,
              "#bd3786"
             ],
             [
              0.5555555555555556,
              "#d8576b"
             ],
             [
              0.6666666666666666,
              "#ed7953"
             ],
             [
              0.7777777777777778,
              "#fb9f3a"
             ],
             [
              0.8888888888888888,
              "#fdca26"
             ],
             [
              1,
              "#f0f921"
             ]
            ],
            "type": "histogram2dcontour"
           }
          ],
          "mesh3d": [
           {
            "colorbar": {
             "outlinewidth": 0,
             "ticks": ""
            },
            "type": "mesh3d"
           }
          ],
          "parcoords": [
           {
            "line": {
             "colorbar": {
              "outlinewidth": 0,
              "ticks": ""
             }
            },
            "type": "parcoords"
           }
          ],
          "pie": [
           {
            "automargin": true,
            "type": "pie"
           }
          ],
          "scatter": [
           {
            "marker": {
             "line": {
              "color": "#283442"
             }
            },
            "type": "scatter"
           }
          ],
          "scatter3d": [
           {
            "line": {
             "colorbar": {
              "outlinewidth": 0,
              "ticks": ""
             }
            },
            "marker": {
             "colorbar": {
              "outlinewidth": 0,
              "ticks": ""
             }
            },
            "type": "scatter3d"
           }
          ],
          "scattercarpet": [
           {
            "marker": {
             "colorbar": {
              "outlinewidth": 0,
              "ticks": ""
             }
            },
            "type": "scattercarpet"
           }
          ],
          "scattergeo": [
           {
            "marker": {
             "colorbar": {
              "outlinewidth": 0,
              "ticks": ""
             }
            },
            "type": "scattergeo"
           }
          ],
          "scattergl": [
           {
            "marker": {
             "line": {
              "color": "#283442"
             }
            },
            "type": "scattergl"
           }
          ],
          "scattermapbox": [
           {
            "marker": {
             "colorbar": {
              "outlinewidth": 0,
              "ticks": ""
             }
            },
            "type": "scattermapbox"
           }
          ],
          "scatterpolar": [
           {
            "marker": {
             "colorbar": {
              "outlinewidth": 0,
              "ticks": ""
             }
            },
            "type": "scatterpolar"
           }
          ],
          "scatterpolargl": [
           {
            "marker": {
             "colorbar": {
              "outlinewidth": 0,
              "ticks": ""
             }
            },
            "type": "scatterpolargl"
           }
          ],
          "scatterternary": [
           {
            "marker": {
             "colorbar": {
              "outlinewidth": 0,
              "ticks": ""
             }
            },
            "type": "scatterternary"
           }
          ],
          "surface": [
           {
            "colorbar": {
             "outlinewidth": 0,
             "ticks": ""
            },
            "colorscale": [
             [
              0,
              "#0d0887"
             ],
             [
              0.1111111111111111,
              "#46039f"
             ],
             [
              0.2222222222222222,
              "#7201a8"
             ],
             [
              0.3333333333333333,
              "#9c179e"
             ],
             [
              0.4444444444444444,
              "#bd3786"
             ],
             [
              0.5555555555555556,
              "#d8576b"
             ],
             [
              0.6666666666666666,
              "#ed7953"
             ],
             [
              0.7777777777777778,
              "#fb9f3a"
             ],
             [
              0.8888888888888888,
              "#fdca26"
             ],
             [
              1,
              "#f0f921"
             ]
            ],
            "type": "surface"
           }
          ],
          "table": [
           {
            "cells": {
             "fill": {
              "color": "#506784"
             },
             "line": {
              "color": "rgb(17,17,17)"
             }
            },
            "header": {
             "fill": {
              "color": "#2a3f5f"
             },
             "line": {
              "color": "rgb(17,17,17)"
             }
            },
            "type": "table"
           }
          ]
         },
         "layout": {
          "annotationdefaults": {
           "arrowcolor": "#f2f5fa",
           "arrowhead": 0,
           "arrowwidth": 1
          },
          "autotypenumbers": "strict",
          "coloraxis": {
           "colorbar": {
            "outlinewidth": 0,
            "ticks": ""
           }
          },
          "colorscale": {
           "diverging": [
            [
             0,
             "#8e0152"
            ],
            [
             0.1,
             "#c51b7d"
            ],
            [
             0.2,
             "#de77ae"
            ],
            [
             0.3,
             "#f1b6da"
            ],
            [
             0.4,
             "#fde0ef"
            ],
            [
             0.5,
             "#f7f7f7"
            ],
            [
             0.6,
             "#e6f5d0"
            ],
            [
             0.7,
             "#b8e186"
            ],
            [
             0.8,
             "#7fbc41"
            ],
            [
             0.9,
             "#4d9221"
            ],
            [
             1,
             "#276419"
            ]
           ],
           "sequential": [
            [
             0,
             "#0d0887"
            ],
            [
             0.1111111111111111,
             "#46039f"
            ],
            [
             0.2222222222222222,
             "#7201a8"
            ],
            [
             0.3333333333333333,
             "#9c179e"
            ],
            [
             0.4444444444444444,
             "#bd3786"
            ],
            [
             0.5555555555555556,
             "#d8576b"
            ],
            [
             0.6666666666666666,
             "#ed7953"
            ],
            [
             0.7777777777777778,
             "#fb9f3a"
            ],
            [
             0.8888888888888888,
             "#fdca26"
            ],
            [
             1,
             "#f0f921"
            ]
           ],
           "sequentialminus": [
            [
             0,
             "#0d0887"
            ],
            [
             0.1111111111111111,
             "#46039f"
            ],
            [
             0.2222222222222222,
             "#7201a8"
            ],
            [
             0.3333333333333333,
             "#9c179e"
            ],
            [
             0.4444444444444444,
             "#bd3786"
            ],
            [
             0.5555555555555556,
             "#d8576b"
            ],
            [
             0.6666666666666666,
             "#ed7953"
            ],
            [
             0.7777777777777778,
             "#fb9f3a"
            ],
            [
             0.8888888888888888,
             "#fdca26"
            ],
            [
             1,
             "#f0f921"
            ]
           ]
          },
          "colorway": [
           "#636efa",
           "#EF553B",
           "#00cc96",
           "#ab63fa",
           "#FFA15A",
           "#19d3f3",
           "#FF6692",
           "#B6E880",
           "#FF97FF",
           "#FECB52"
          ],
          "font": {
           "color": "#f2f5fa"
          },
          "geo": {
           "bgcolor": "rgb(17,17,17)",
           "lakecolor": "rgb(17,17,17)",
           "landcolor": "rgb(17,17,17)",
           "showlakes": true,
           "showland": true,
           "subunitcolor": "#506784"
          },
          "hoverlabel": {
           "align": "left"
          },
          "hovermode": "closest",
          "mapbox": {
           "style": "dark"
          },
          "paper_bgcolor": "rgb(17,17,17)",
          "plot_bgcolor": "rgb(17,17,17)",
          "polar": {
           "angularaxis": {
            "gridcolor": "#506784",
            "linecolor": "#506784",
            "ticks": ""
           },
           "bgcolor": "rgb(17,17,17)",
           "radialaxis": {
            "gridcolor": "#506784",
            "linecolor": "#506784",
            "ticks": ""
           }
          },
          "scene": {
           "xaxis": {
            "backgroundcolor": "rgb(17,17,17)",
            "gridcolor": "#506784",
            "gridwidth": 2,
            "linecolor": "#506784",
            "showbackground": true,
            "ticks": "",
            "zerolinecolor": "#C8D4E3"
           },
           "yaxis": {
            "backgroundcolor": "rgb(17,17,17)",
            "gridcolor": "#506784",
            "gridwidth": 2,
            "linecolor": "#506784",
            "showbackground": true,
            "ticks": "",
            "zerolinecolor": "#C8D4E3"
           },
           "zaxis": {
            "backgroundcolor": "rgb(17,17,17)",
            "gridcolor": "#506784",
            "gridwidth": 2,
            "linecolor": "#506784",
            "showbackground": true,
            "ticks": "",
            "zerolinecolor": "#C8D4E3"
           }
          },
          "shapedefaults": {
           "line": {
            "color": "#f2f5fa"
           }
          },
          "sliderdefaults": {
           "bgcolor": "#C8D4E3",
           "bordercolor": "rgb(17,17,17)",
           "borderwidth": 1,
           "tickwidth": 0
          },
          "ternary": {
           "aaxis": {
            "gridcolor": "#506784",
            "linecolor": "#506784",
            "ticks": ""
           },
           "baxis": {
            "gridcolor": "#506784",
            "linecolor": "#506784",
            "ticks": ""
           },
           "bgcolor": "rgb(17,17,17)",
           "caxis": {
            "gridcolor": "#506784",
            "linecolor": "#506784",
            "ticks": ""
           }
          },
          "title": {
           "x": 0.05
          },
          "updatemenudefaults": {
           "bgcolor": "#506784",
           "borderwidth": 0
          },
          "xaxis": {
           "automargin": true,
           "gridcolor": "#283442",
           "linecolor": "#506784",
           "ticks": "",
           "title": {
            "standoff": 15
           },
           "zerolinecolor": "#283442",
           "zerolinewidth": 2
          },
          "yaxis": {
           "automargin": true,
           "gridcolor": "#283442",
           "linecolor": "#506784",
           "ticks": "",
           "title": {
            "standoff": 15
           },
           "zerolinecolor": "#283442",
           "zerolinewidth": 2
          }
         }
        },
        "title": {
         "font": {
          "size": 16
         },
         "text": "Plotly Networkx visualization"
        },
        "xaxis": {
         "autorange": true,
         "range": [
          -1.0249627289173047,
          1.118766685811693
         ],
         "showgrid": false,
         "showticklabels": false,
         "type": "linear",
         "zeroline": false
        },
        "yaxis": {
         "autorange": true,
         "range": [
          -0.9116694014266327,
          1.1032666010581333
         ],
         "showgrid": false,
         "showticklabels": false,
         "type": "linear",
         "zeroline": false
        }
       }
      },
      "image/png": "[encoded data removed]",
      "text/html": [
       "<div>                            <div id=\"a46ca350-66c1-4ad5-97a1-52035cde3850\" class=\"plotly-graph-div\" style=\"height:525px; width:100%;\"></div>            <script type=\"text/javascript\">                require([\"plotly\"], function(Plotly) {                    window.PLOTLYENV=window.PLOTLYENV || {};                                    if (document.getElementById(\"a46ca350-66c1-4ad5-97a1-52035cde3850\")) {                    Plotly.newPlot(                        \"a46ca350-66c1-4ad5-97a1-52035cde3850\",                        [{\"hoverinfo\":\"text\",\"line\":{\"color\":\"white\",\"width\":0.5},\"mode\":\"lines\",\"text\":[\"Edge SIRT1 - EP300\",\"Edge SIRT1 - TP53\",\"Edge EP300 - DDX5\",\"Edge EP300 - MDM2\",\"Edge EP300 - CREBBP\",\"Edge EP300 - CDK2\",\"Edge EP300 - TP53\",\"Edge TP53 - AURKA\",\"Edge TP53 - DDX5\",\"Edge TP53 - UBE3A\",\"Edge TP53 - RPA1\",\"Edge TP53 - MDM2\",\"Edge TP53 - BARD1\",\"Edge TP53 - CREBBP\",\"Edge TP53 - CDK2\",\"Edge RPA1 - CDK2\",\"Edge CDK2 - CREBBP\",\"Edge MDM2 - CREBBP\"],\"x\":[-0.6943486601127674,-0.3350923939545203,null,-0.6943486601127674,0.020147368706046817,null,-0.3350923939545203,-0.9061960431056117,null,-0.3350923939545203,-0.3075486878250747,null,-0.3350923939545203,0.10570853587792788,null,-0.3350923939545203,0.40648230298592325,null,-0.3350923939545203,0.020147368706046817,null,0.020147368706046817,-0.3547992850151275,null,0.020147368706046817,-0.9061960431056117,null,0.020147368706046817,1.0,null,0.020147368706046817,0.704398992402907,null,0.020147368706046817,-0.3075486878250747,null,0.020147368706046817,0.3612478700402961,null,0.020147368706046817,0.10570853587792788,null,0.020147368706046817,0.40648230298592325,null,0.704398992402907,0.40648230298592325,null,0.40648230298592325,0.10570853587792788,null,-0.3075486878250747,0.10570853587792788,null],\"y\":[0.2569109721703813,-0.3225320796917183,null,0.2569109721703813,0.06419801657057454,null,-0.3225320796917183,-0.273102874618734,null,-0.3225320796917183,-0.768944767917295,null,-0.3225320796917183,-0.6964053064471653,null,-0.3225320796917183,-0.3456499582121902,null,-0.3225320796917183,0.06419801657057454,null,0.06419801657057454,0.9331549060341652,null,0.06419801657057454,-0.273102874618734,null,0.06419801657057454,-0.12308994572025286,null,0.06419801657057454,0.31491907028343846,null,0.06419801657057454,-0.768944767917295,null,0.06419801657057454,0.9605419675487958,null,0.06419801657057454,-0.6964053064471653,null,0.06419801657057454,-0.3456499582121902,null,0.31491907028343846,-0.3456499582121902,null,-0.3456499582121902,-0.6964053064471653,null,-0.768944767917295,-0.6964053064471653,null],\"type\":\"scatter\"},{\"hoverinfo\":\"name+text\",\"marker\":{\"color\":[],\"colorbar\":{\"thickness\":15,\"title\":{\"side\":\"right\"},\"xanchor\":\"left\"},\"colorscale\":[[0.0,\"rgb(247,251,255)\"],[0.125,\"rgb(222,235,247)\"],[0.25,\"rgb(198,219,239)\"],[0.375,\"rgb(158,202,225)\"],[0.5,\"rgb(107,174,214)\"],[0.625,\"rgb(66,146,198)\"],[0.75,\"rgb(33,113,181)\"],[0.875,\"rgb(8,81,156)\"],[1.0,\"rgb(8,48,107)\"]],\"line\":{\"width\":2},\"reversescale\":true,\"showscale\":true,\"size\":10},\"mode\":\"markers\",\"text\":[\"Node: SIRT1\\n\\ncolor: blue\\npos: [-0.69434866  0.25691097]\\n\",\"Node: EP300\\n\\ncolor: blue\\npos: [-0.33509239 -0.32253208]\\n\",\"Node: TP53\\n\\ncolor: green\\npos: [0.02014737 0.06419802]\\n\",\"Node: AURKA\\n\\ncolor: blue\\npos: [-0.35479929  0.93315491]\\n\",\"Node: DDX5\\n\\ncolor: blue\\npos: [-0.90619604 -0.27310287]\\n\",\"Node: UBE3A\\n\\ncolor: blue\\npos: [ 1.         -0.12308995]\\n\",\"Node: RPA1\\n\\ncolor: blue\\npos: [0.70439899 0.31491907]\\n\",\"Node: CDK2\\n\\ncolor: blue\\npos: [ 0.4064823  -0.34564996]\\n\",\"Node: MDM2\\n\\ncolor: blue\\npos: [-0.30754869 -0.76894477]\\n\",\"Node: CREBBP\\n\\ncolor: blue\\npos: [ 0.10570854 -0.69640531]\\n\",\"Node: BARD1\\n\\ncolor: blue\\npos: [0.36124787 0.96054197]\\n\"],\"x\":[-0.6943486601127674,-0.3350923939545203,0.020147368706046817,-0.3547992850151275,-0.9061960431056117,1.0,0.704398992402907,0.40648230298592325,-0.3075486878250747,0.10570853587792788,0.3612478700402961],\"y\":[0.2569109721703813,-0.3225320796917183,0.06419801657057454,0.9331549060341652,-0.273102874618734,-0.12308994572025286,0.31491907028343846,-0.3456499582121902,-0.768944767917295,-0.6964053064471653,0.9605419675487958],\"type\":\"scatter\"}],                        {\"hovermode\":\"closest\",\"margin\":{\"b\":20,\"l\":5,\"r\":5,\"t\":40},\"showlegend\":false,\"template\":{\"data\":{\"barpolar\":[{\"marker\":{\"line\":{\"color\":\"rgb(17,17,17)\",\"width\":0.5},\"pattern\":{\"fillmode\":\"overlay\",\"size\":10,\"solidity\":0.2}},\"type\":\"barpolar\"}],\"bar\":[{\"error_x\":{\"color\":\"#f2f5fa\"},\"error_y\":{\"color\":\"#f2f5fa\"},\"marker\":{\"line\":{\"color\":\"rgb(17,17,17)\",\"width\":0.5},\"pattern\":{\"fillmode\":\"overlay\",\"size\":10,\"solidity\":0.2}},\"type\":\"bar\"}],\"carpet\":[{\"aaxis\":{\"endlinecolor\":\"#A2B1C6\",\"gridcolor\":\"#506784\",\"linecolor\":\"#506784\",\"minorgridcolor\":\"#506784\",\"startlinecolor\":\"#A2B1C6\"},\"baxis\":{\"endlinecolor\":\"#A2B1C6\",\"gridcolor\":\"#506784\",\"linecolor\":\"#506784\",\"minorgridcolor\":\"#506784\",\"startlinecolor\":\"#A2B1C6\"},\"type\":\"carpet\"}],\"choropleth\":[{\"colorbar\":{\"outlinewidth\":0,\"ticks\":\"\"},\"type\":\"choropleth\"}],\"contourcarpet\":[{\"colorbar\":{\"outlinewidth\":0,\"ticks\":\"\"},\"type\":\"contourcarpet\"}],\"contour\":[{\"colorbar\":{\"outlinewidth\":0,\"ticks\":\"\"},\"colorscale\":[[0.0,\"#0d0887\"],[0.1111111111111111,\"#46039f\"],[0.2222222222222222,\"#7201a8\"],[0.3333333333333333,\"#9c179e\"],[0.4444444444444444,\"#bd3786\"],[0.5555555555555556,\"#d8576b\"],[0.6666666666666666,\"#ed7953\"],[0.7777777777777778,\"#fb9f3a\"],[0.8888888888888888,\"#fdca26\"],[1.0,\"#f0f921\"]],\"type\":\"contour\"}],\"heatmapgl\":[{\"colorbar\":{\"outlinewidth\":0,\"ticks\":\"\"},\"colorscale\":[[0.0,\"#0d0887\"],[0.1111111111111111,\"#46039f\"],[0.2222222222222222,\"#7201a8\"],[0.3333333333333333,\"#9c179e\"],[0.4444444444444444,\"#bd3786\"],[0.5555555555555556,\"#d8576b\"],[0.6666666666666666,\"#ed7953\"],[0.7777777777777778,\"#fb9f3a\"],[0.8888888888888888,\"#fdca26\"],[1.0,\"#f0f921\"]],\"type\":\"heatmapgl\"}],\"heatmap\":[{\"colorbar\":{\"outlinewidth\":0,\"ticks\":\"\"},\"colorscale\":[[0.0,\"#0d0887\"],[0.1111111111111111,\"#46039f\"],[0.2222222222222222,\"#7201a8\"],[0.3333333333333333,\"#9c179e\"],[0.4444444444444444,\"#bd3786\"],[0.5555555555555556,\"#d8576b\"],[0.6666666666666666,\"#ed7953\"],[0.7777777777777778,\"#fb9f3a\"],[0.8888888888888888,\"#fdca26\"],[1.0,\"#f0f921\"]],\"type\":\"heatmap\"}],\"histogram2dcontour\":[{\"colorbar\":{\"outlinewidth\":0,\"ticks\":\"\"},\"colorscale\":[[0.0,\"#0d0887\"],[0.1111111111111111,\"#46039f\"],[0.2222222222222222,\"#7201a8\"],[0.3333333333333333,\"#9c179e\"],[0.4444444444444444,\"#bd3786\"],[0.5555555555555556,\"#d8576b\"],[0.6666666666666666,\"#ed7953\"],[0.7777777777777778,\"#fb9f3a\"],[0.8888888888888888,\"#fdca26\"],[1.0,\"#f0f921\"]],\"type\":\"histogram2dcontour\"}],\"histogram2d\":[{\"colorbar\":{\"outlinewidth\":0,\"ticks\":\"\"},\"colorscale\":[[0.0,\"#0d0887\"],[0.1111111111111111,\"#46039f\"],[0.2222222222222222,\"#7201a8\"],[0.3333333333333333,\"#9c179e\"],[0.4444444444444444,\"#bd3786\"],[0.5555555555555556,\"#d8576b\"],[0.6666666666666666,\"#ed7953\"],[0.7777777777777778,\"#fb9f3a\"],[0.8888888888888888,\"#fdca26\"],[1.0,\"#f0f921\"]],\"type\":\"histogram2d\"}],\"histogram\":[{\"marker\":{\"pattern\":{\"fillmode\":\"overlay\",\"size\":10,\"solidity\":0.2}},\"type\":\"histogram\"}],\"mesh3d\":[{\"colorbar\":{\"outlinewidth\":0,\"ticks\":\"\"},\"type\":\"mesh3d\"}],\"parcoords\":[{\"line\":{\"colorbar\":{\"outlinewidth\":0,\"ticks\":\"\"}},\"type\":\"parcoords\"}],\"pie\":[{\"automargin\":true,\"type\":\"pie\"}],\"scatter3d\":[{\"line\":{\"colorbar\":{\"outlinewidth\":0,\"ticks\":\"\"}},\"marker\":{\"colorbar\":{\"outlinewidth\":0,\"ticks\":\"\"}},\"type\":\"scatter3d\"}],\"scattercarpet\":[{\"marker\":{\"colorbar\":{\"outlinewidth\":0,\"ticks\":\"\"}},\"type\":\"scattercarpet\"}],\"scattergeo\":[{\"marker\":{\"colorbar\":{\"outlinewidth\":0,\"ticks\":\"\"}},\"type\":\"scattergeo\"}],\"scattergl\":[{\"marker\":{\"line\":{\"color\":\"#283442\"}},\"type\":\"scattergl\"}],\"scattermapbox\":[{\"marker\":{\"colorbar\":{\"outlinewidth\":0,\"ticks\":\"\"}},\"type\":\"scattermapbox\"}],\"scatterpolargl\":[{\"marker\":{\"colorbar\":{\"outlinewidth\":0,\"ticks\":\"\"}},\"type\":\"scatterpolargl\"}],\"scatterpolar\":[{\"marker\":{\"colorbar\":{\"outlinewidth\":0,\"ticks\":\"\"}},\"type\":\"scatterpolar\"}],\"scatter\":[{\"marker\":{\"line\":{\"color\":\"#283442\"}},\"type\":\"scatter\"}],\"scatterternary\":[{\"marker\":{\"colorbar\":{\"outlinewidth\":0,\"ticks\":\"\"}},\"type\":\"scatterternary\"}],\"surface\":[{\"colorbar\":{\"outlinewidth\":0,\"ticks\":\"\"},\"colorscale\":[[0.0,\"#0d0887\"],[0.1111111111111111,\"#46039f\"],[0.2222222222222222,\"#7201a8\"],[0.3333333333333333,\"#9c179e\"],[0.4444444444444444,\"#bd3786\"],[0.5555555555555556,\"#d8576b\"],[0.6666666666666666,\"#ed7953\"],[0.7777777777777778,\"#fb9f3a\"],[0.8888888888888888,\"#fdca26\"],[1.0,\"#f0f921\"]],\"type\":\"surface\"}],\"table\":[{\"cells\":{\"fill\":{\"color\":\"#506784\"},\"line\":{\"color\":\"rgb(17,17,17)\"}},\"header\":{\"fill\":{\"color\":\"#2a3f5f\"},\"line\":{\"color\":\"rgb(17,17,17)\"}},\"type\":\"table\"}]},\"layout\":{\"annotationdefaults\":{\"arrowcolor\":\"#f2f5fa\",\"arrowhead\":0,\"arrowwidth\":1},\"autotypenumbers\":\"strict\",\"coloraxis\":{\"colorbar\":{\"outlinewidth\":0,\"ticks\":\"\"}},\"colorscale\":{\"diverging\":[[0,\"#8e0152\"],[0.1,\"#c51b7d\"],[0.2,\"#de77ae\"],[0.3,\"#f1b6da\"],[0.4,\"#fde0ef\"],[0.5,\"#f7f7f7\"],[0.6,\"#e6f5d0\"],[0.7,\"#b8e186\"],[0.8,\"#7fbc41\"],[0.9,\"#4d9221\"],[1,\"#276419\"]],\"sequential\":[[0.0,\"#0d0887\"],[0.1111111111111111,\"#46039f\"],[0.2222222222222222,\"#7201a8\"],[0.3333333333333333,\"#9c179e\"],[0.4444444444444444,\"#bd3786\"],[0.5555555555555556,\"#d8576b\"],[0.6666666666666666,\"#ed7953\"],[0.7777777777777778,\"#fb9f3a\"],[0.8888888888888888,\"#fdca26\"],[1.0,\"#f0f921\"]],\"sequentialminus\":[[0.0,\"#0d0887\"],[0.1111111111111111,\"#46039f\"],[0.2222222222222222,\"#7201a8\"],[0.3333333333333333,\"#9c179e\"],[0.4444444444444444,\"#bd3786\"],[0.5555555555555556,\"#d8576b\"],[0.6666666666666666,\"#ed7953\"],[0.7777777777777778,\"#fb9f3a\"],[0.8888888888888888,\"#fdca26\"],[1.0,\"#f0f921\"]]},\"colorway\":[\"#636efa\",\"#EF553B\",\"#00cc96\",\"#ab63fa\",\"#FFA15A\",\"#19d3f3\",\"#FF6692\",\"#B6E880\",\"#FF97FF\",\"#FECB52\"],\"font\":{\"color\":\"#f2f5fa\"},\"geo\":{\"bgcolor\":\"rgb(17,17,17)\",\"lakecolor\":\"rgb(17,17,17)\",\"landcolor\":\"rgb(17,17,17)\",\"showlakes\":true,\"showland\":true,\"subunitcolor\":\"#506784\"},\"hoverlabel\":{\"align\":\"left\"},\"hovermode\":\"closest\",\"mapbox\":{\"style\":\"dark\"},\"paper_bgcolor\":\"rgb(17,17,17)\",\"plot_bgcolor\":\"rgb(17,17,17)\",\"polar\":{\"angularaxis\":{\"gridcolor\":\"#506784\",\"linecolor\":\"#506784\",\"ticks\":\"\"},\"bgcolor\":\"rgb(17,17,17)\",\"radialaxis\":{\"gridcolor\":\"#506784\",\"linecolor\":\"#506784\",\"ticks\":\"\"}},\"scene\":{\"xaxis\":{\"backgroundcolor\":\"rgb(17,17,17)\",\"gridcolor\":\"#506784\",\"gridwidth\":2,\"linecolor\":\"#506784\",\"showbackground\":true,\"ticks\":\"\",\"zerolinecolor\":\"#C8D4E3\"},\"yaxis\":{\"backgroundcolor\":\"rgb(17,17,17)\",\"gridcolor\":\"#506784\",\"gridwidth\":2,\"linecolor\":\"#506784\",\"showbackground\":true,\"ticks\":\"\",\"zerolinecolor\":\"#C8D4E3\"},\"zaxis\":{\"backgroundcolor\":\"rgb(17,17,17)\",\"gridcolor\":\"#506784\",\"gridwidth\":2,\"linecolor\":\"#506784\",\"showbackground\":true,\"ticks\":\"\",\"zerolinecolor\":\"#C8D4E3\"}},\"shapedefaults\":{\"line\":{\"color\":\"#f2f5fa\"}},\"sliderdefaults\":{\"bgcolor\":\"#C8D4E3\",\"bordercolor\":\"rgb(17,17,17)\",\"borderwidth\":1,\"tickwidth\":0},\"ternary\":{\"aaxis\":{\"gridcolor\":\"#506784\",\"linecolor\":\"#506784\",\"ticks\":\"\"},\"baxis\":{\"gridcolor\":\"#506784\",\"linecolor\":\"#506784\",\"ticks\":\"\"},\"bgcolor\":\"rgb(17,17,17)\",\"caxis\":{\"gridcolor\":\"#506784\",\"linecolor\":\"#506784\",\"ticks\":\"\"}},\"title\":{\"x\":0.05},\"updatemenudefaults\":{\"bgcolor\":\"#506784\",\"borderwidth\":0},\"xaxis\":{\"automargin\":true,\"gridcolor\":\"#283442\",\"linecolor\":\"#506784\",\"ticks\":\"\",\"title\":{\"standoff\":15},\"zerolinecolor\":\"#283442\",\"zerolinewidth\":2},\"yaxis\":{\"automargin\":true,\"gridcolor\":\"#283442\",\"linecolor\":\"#506784\",\"ticks\":\"\",\"title\":{\"standoff\":15},\"zerolinecolor\":\"#283442\",\"zerolinewidth\":2}}},\"title\":{\"font\":{\"size\":16},\"text\":\"Plotly Networkx visualization\"},\"xaxis\":{\"showgrid\":false,\"showticklabels\":false,\"zeroline\":false},\"yaxis\":{\"showgrid\":false,\"showticklabels\":false,\"zeroline\":false}},                        {\"responsive\": true}                    ).then(function(){\n",
       "                            \n",
       "var gd = document.getElementById('a46ca350-66c1-4ad5-97a1-52035cde3850');\n",
       "var x = new MutationObserver(function (mutations, observer) {{\n",
       "        var display = window.getComputedStyle(gd).display;\n",
       "        if (!display || display === 'none') {{\n",
       "            console.log([gd, 'removed!']);\n",
       "            Plotly.purge(gd);\n",
       "            observer.disconnect();\n",
       "        }}\n",
       "}});\n",
       "\n",
       "// Listen for the removal of the full notebook cells\n",
       "var notebookContainer = gd.closest('#notebook-container');\n",
       "if (notebookContainer) {{\n",
       "    x.observe(notebookContainer, {childList: true});\n",
       "}}\n",
       "\n",
       "// Listen for the clearing of the current output cell\n",
       "var outputEl = gd.closest('.output');\n",
       "if (outputEl) {{\n",
       "    x.observe(outputEl, {childList: true});\n",
       "}}\n",
       "\n",
       "                        })                };                });            </script>        </div>"
      ]
     },
     "metadata": {},
     "output_type": "display_data"
    }
   ],
   "source": [
    "visualize_network(G, color_by = None, size_by = None, title = None, layout = \"spring_layout\")"
   ]
  }
 ],
 "metadata": {
  "kernelspec": {
   "display_name": "Python 3 (ipykernel)",
   "language": "python",
   "name": "python3"
  },
  "language_info": {
   "codemirror_mode": {
    "name": "ipython",
    "version": 3
   },
   "file_extension": ".py",
   "mimetype": "text/x-python",
   "name": "python",
   "nbconvert_exporter": "python",
   "pygments_lexer": "ipython3",
   "version": "3.9.6"
  }
 },
 "nbformat": 4,
 "nbformat_minor": 5
}
